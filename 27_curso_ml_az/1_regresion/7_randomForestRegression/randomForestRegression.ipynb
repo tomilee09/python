{
 "cells": [
  {
   "cell_type": "markdown",
   "metadata": {},
   "source": [
    "# Regresion con random forest"
   ]
  },
  {
   "cell_type": "markdown",
   "metadata": {},
   "source": [
    "como vimos con las regresiones basadas en arboles de desiciones obtuvimos escaleras que nos decian los valores de loa datos, para ya no tener escaleras vamos a promediar los valores de diferentes escaleras creadas con diferentes parametros (por ejemplo las escaleras que solo tenga 2 elementos por division, otras escaleras que tengan 3 elementos por division, etc...), con lo cual obtendremos una mejor aproximación\n",
    "\n",
    "Esta aproximacion ya no tendrá el desajuste provocado por nuestras desiciones al crear la escalera única\n",
    "\n",
    "dado que usamos muchas regresiones con arboles de desiciones, esta aproximacion se llama regresion con bosque (muchos arbolitos) aleatorio"
   ]
  },
  {
   "cell_type": "code",
   "execution_count": 27,
   "metadata": {},
   "outputs": [],
   "source": [
    "import numpy as np\n",
    "import pandas as pd\n",
    "import matplotlib.pyplot as plt"
   ]
  },
  {
   "cell_type": "code",
   "execution_count": 28,
   "metadata": {},
   "outputs": [],
   "source": [
    "df = pd.read_csv(\"Position_Salaries.csv\")"
   ]
  },
  {
   "cell_type": "code",
   "execution_count": 29,
   "metadata": {},
   "outputs": [],
   "source": [
    "x = df.iloc[:, 1:2]\n",
    "y = df.iloc[:, -1]"
   ]
  },
  {
   "cell_type": "code",
   "execution_count": 30,
   "metadata": {},
   "outputs": [],
   "source": [
    "# importamos el modelo de regresion con random forest\n",
    "from sklearn.ensemble import RandomForestRegressor"
   ]
  },
  {
   "cell_type": "code",
   "execution_count": 31,
   "metadata": {},
   "outputs": [
    {
     "data": {
      "text/plain": [
       "RandomForestRegressor(n_estimators=10, random_state=0)"
      ]
     },
     "execution_count": 31,
     "metadata": {},
     "output_type": "execute_result"
    }
   ],
   "source": [
    "# n_estimators es el numero de arboles de desicion que se usaran para crear el promedio (se crean de tal forma que sean diferentes)\n",
    "regresion = RandomForestRegressor(n_estimators=10, random_state=0)\n",
    "regresion.fit(x, y)"
   ]
  },
  {
   "cell_type": "code",
   "execution_count": 32,
   "metadata": {},
   "outputs": [],
   "source": [
    "# quiero crear la grafica con harta presicion asi que creo este rango\n",
    "x = x.values # pa transformarlo en np.array y poder usar min() y max()\n",
    "rango = np.arange(min(x), max(x), 0.01)\n",
    "rango = rango.reshape(-1, 1) # porque me lo pide xD"
   ]
  },
  {
   "cell_type": "code",
   "execution_count": 33,
   "metadata": {},
   "outputs": [
    {
     "data": {
      "image/png": "[encoded data removed]",
      "text/plain": [
       "<Figure size 432x288 with 1 Axes>"
      ]
     },
     "metadata": {
      "needs_background": "light"
     },
     "output_type": "display_data"
    }
   ],
   "source": [
    "# grafico pero ahora con más presición\n",
    "plt.scatter(x, y)\n",
    "plt.plot(rango, regresion.predict(rango))\n",
    "plt.show()"
   ]
  },
  {
   "cell_type": "code",
   "execution_count": 34,
   "metadata": {},
   "outputs": [
    {
     "data": {
      "text/plain": [
       "RandomForestRegressor(n_estimators=1000, random_state=0)"
      ]
     },
     "execution_count": 34,
     "metadata": {},
     "output_type": "execute_result"
    }
   ],
   "source": [
    "# veamos que pasa si aumentamos los arboles\n",
    "regresion = RandomForestRegressor(n_estimators=1000, random_state=0)\n",
    "regresion.fit(x, y)"
   ]
  },
  {
   "cell_type": "code",
   "execution_count": 35,
   "metadata": {},
   "outputs": [
    {
     "data": {
      "image/png": "[encoded data removed]",
      "text/plain": [
       "<Figure size 432x288 with 1 Axes>"
      ]
     },
     "metadata": {
      "needs_background": "light"
     },
     "output_type": "display_data"
    }
   ],
   "source": [
    "plt.scatter(x, y)\n",
    "plt.plot(rango, regresion.predict(rango))\n",
    "plt.show()"
   ]
  },
  {
   "cell_type": "markdown",
   "metadata": {},
   "source": [
    "cambio un poco pero no excesivamente, dado que tenemos muy pocos puntos (10), los arboles de desicion no pueden diferenciarse demaciado, asi que no cambiará demaciado si aumentamos la cantidad de arboles (podriamos decir que se empiezan a repetir, asi que no aumenta la presicion)"
   ]
  }
 ],
 "metadata": {
  "kernelspec": {
   "display_name": "Python 3.8.10 64-bit",
   "language": "python",
   "name": "python3"
  },
  "language_info": {
   "codemirror_mode": {
    "name": "ipython",
    "version": 3
   },
   "file_extension": ".py",
   "mimetype": "text/x-python",
   "name": "python",
   "nbconvert_exporter": "python",
   "pygments_lexer": "ipython3",
   "version": "3.8.10"
  },
  "orig_nbformat": 4,
  "vscode": {
   "interpreter": {
    "hash": "31f2aee4e71d21fbe5cf8b01ff0e069b9275f58929596ceb00d14d90e3e16cd6"
   }
  }
 },
 "nbformat": 4,
 "nbformat_minor": 2
}
