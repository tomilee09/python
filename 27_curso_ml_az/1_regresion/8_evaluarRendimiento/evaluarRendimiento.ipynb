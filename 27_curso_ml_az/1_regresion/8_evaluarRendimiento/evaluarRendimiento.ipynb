{
 "cells": [
  {
   "cell_type": "markdown",
   "metadata": {},
   "source": [
    "El R^2 es buenisimo, nos ayuda a encontrar la mejor recta, esa es su formula, mientras más cerca de 1 mejor"
   ]
  },
  {
   "cell_type": "markdown",
   "metadata": {},
   "source": [
    "![r_cuadrado](../assets/r_cuadrado.png)"
   ]
  },
  {
   "cell_type": "markdown",
   "metadata": {},
   "source": [
    "pero tiene un problema, si seguimos añadiendo variables, este solo puede aumentar, entonces dado que mejora siempre que le añadamos una variable, no nos sirve para saber si esa variable añadida sirve o no para el modelo\n",
    "\n",
    "$R^2$ aumenta si añadimos variables pues $SS_{res}$ aumenta un poco, pero su objetivo es achicarse, entonces no es tanto, en cambio $SS_{tot}$ aumenta \"mucho\", pues se calcula la distancia al cuadrado desdela linea horizontal (el promedio), entonces $\\frac{SS_{res}}{SS_{tot}}$ disminuye, por lo que $1 - \\frac{SS_{res}}{SS_{tot}}$ aumenta"
   ]
  },
  {
   "cell_type": "markdown",
   "metadata": {},
   "source": [
    "![problema_r_cuadrado](../assets/problema_r_cuadrado.png)"
   ]
  },
  {
   "cell_type": "markdown",
   "metadata": {},
   "source": [
    "La solución es $adj R^2$ es el R^2 ajustado, tiene las bondades de R^2, pero si aumentamos el número de variables el adj R^2 disminuye, asi que ahora nos permite ver si la añadidura de esa nueva variable permite aumentar R^2, o realmente es insignificante y adj R^2 disminuye"
   ]
  },
  {
   "cell_type": "markdown",
   "metadata": {},
   "source": [
    "![adj_r_cuadrado](../assets/adj_r_cuadrado.png)"
   ]
  },
  {
   "cell_type": "markdown",
   "metadata": {},
   "source": [
    "Ejemplo de clases anteriores al eliminar variables"
   ]
  },
  {
   "cell_type": "markdown",
   "metadata": {},
   "source": [
    "![ejemplo_r_r_cuadrado](../assets/ejemplo_r_r_cuadrado.png)"
   ]
  },
  {
   "cell_type": "markdown",
   "metadata": {},
   "source": [
    "notamos que al eliminar variables el $R^2$ disminuye siempre,\n",
    "pero el $adj R^2$ aumenta su valor las primeras 2 veces, pues se eliminaron variables que no aportaban al modelo, pero la tercera vez, este disminuyó, demostrando que esa variable no debia ser eliminada, y que nuestro modelo es mejor con ella."
   ]
  }
 ],
 "metadata": {
  "kernelspec": {
   "display_name": "Python 3.8.10 64-bit",
   "language": "python",
   "name": "python3"
  },
  "language_info": {
   "codemirror_mode": {
    "name": "ipython",
    "version": 3
   },
   "file_extension": ".py",
   "mimetype": "text/x-python",
   "name": "python",
   "nbconvert_exporter": "python",
   "pygments_lexer": "ipython3",
   "version": "3.8.10"
  },
  "orig_nbformat": 4,
  "vscode": {
   "interpreter": {
    "hash": "31f2aee4e71d21fbe5cf8b01ff0e069b9275f58929596ceb00d14d90e3e16cd6"
   }
  }
 },
 "nbformat": 4,
 "nbformat_minor": 2
}
