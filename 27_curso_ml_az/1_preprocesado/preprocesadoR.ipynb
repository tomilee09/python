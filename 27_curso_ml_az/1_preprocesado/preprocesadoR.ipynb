{
 "cells": [
  {
   "cell_type": "markdown",
   "metadata": {},
   "source": [
    "# R"
   ]
  },
  {
   "cell_type": "code",
   "execution_count": 1,
   "metadata": {
    "vscode": {
     "languageId": "r"
    }
   },
   "outputs": [],
   "source": [
    "df = read.csv('Data.csv')"
   ]
  },
  {
   "cell_type": "code",
   "execution_count": 2,
   "metadata": {
    "vscode": {
     "languageId": "r"
    }
   },
   "outputs": [
    {
     "data": {
      "text/html": [
       "<table class=\"dataframe\">\n",
       "<caption>A data.frame: 10 × 4</caption>\n",
       "<thead>\n",
       "\t<tr><th scope=col>Country</th><th scope=col>Age</th><th scope=col>Salary</th><th scope=col>Purchased</th></tr>\n",
       "\t<tr><th scope=col>&lt;chr&gt;</th><th scope=col>&lt;int&gt;</th><th scope=col>&lt;int&gt;</th><th scope=col>&lt;chr&gt;</th></tr>\n",
       "</thead>\n",
       "<tbody>\n",
       "\t<tr><td>France </td><td>44</td><td>72000</td><td>No </td></tr>\n",
       "\t<tr><td>Spain  </td><td>27</td><td>48000</td><td>Yes</td></tr>\n",
       "\t<tr><td>Germany</td><td>30</td><td>54000</td><td>No </td></tr>\n",
       "\t<tr><td>Spain  </td><td>38</td><td>61000</td><td>No </td></tr>\n",
       "\t<tr><td>Germany</td><td>40</td><td>   NA</td><td>Yes</td></tr>\n",
       "\t<tr><td>France </td><td>35</td><td>58000</td><td>Yes</td></tr>\n",
       "\t<tr><td>Spain  </td><td>NA</td><td>52000</td><td>No </td></tr>\n",
       "\t<tr><td>France </td><td>48</td><td>79000</td><td>Yes</td></tr>\n",
       "\t<tr><td>Germany</td><td>50</td><td>83000</td><td>No </td></tr>\n",
       "\t<tr><td>France </td><td>37</td><td>67000</td><td>Yes</td></tr>\n",
       "</tbody>\n",
       "</table>\n"
      ],
      "text/latex": [
       "A data.frame: 10 × 4\n",
       "\\begin{tabular}{llll}\n",
       " Country & Age & Salary & Purchased\\\\\n",
       " <chr> & <int> & <int> & <chr>\\\\\n",
       "\\hline\n",
       "\t France  & 44 & 72000 & No \\\\\n",
       "\t Spain   & 27 & 48000 & Yes\\\\\n",
       "\t Germany & 30 & 54000 & No \\\\\n",
       "\t Spain   & 38 & 61000 & No \\\\\n",
       "\t Germany & 40 &    NA & Yes\\\\\n",
       "\t France  & 35 & 58000 & Yes\\\\\n",
       "\t Spain   & NA & 52000 & No \\\\\n",
       "\t France  & 48 & 79000 & Yes\\\\\n",
       "\t Germany & 50 & 83000 & No \\\\\n",
       "\t France  & 37 & 67000 & Yes\\\\\n",
       "\\end{tabular}\n"
      ],
      "text/markdown": [
       "\n",
       "A data.frame: 10 × 4\n",
       "\n",
       "| Country &lt;chr&gt; | Age &lt;int&gt; | Salary &lt;int&gt; | Purchased &lt;chr&gt; |\n",
       "|---|---|---|---|\n",
       "| France  | 44 | 72000 | No  |\n",
       "| Spain   | 27 | 48000 | Yes |\n",
       "| Germany | 30 | 54000 | No  |\n",
       "| Spain   | 38 | 61000 | No  |\n",
       "| Germany | 40 |    NA | Yes |\n",
       "| France  | 35 | 58000 | Yes |\n",
       "| Spain   | NA | 52000 | No  |\n",
       "| France  | 48 | 79000 | Yes |\n",
       "| Germany | 50 | 83000 | No  |\n",
       "| France  | 37 | 67000 | Yes |\n",
       "\n"
      ],
      "text/plain": [
       "   Country Age Salary Purchased\n",
       "1  France  44  72000  No       \n",
       "2  Spain   27  48000  Yes      \n",
       "3  Germany 30  54000  No       \n",
       "4  Spain   38  61000  No       \n",
       "5  Germany 40     NA  Yes      \n",
       "6  France  35  58000  Yes      \n",
       "7  Spain   NA  52000  No       \n",
       "8  France  48  79000  Yes      \n",
       "9  Germany 50  83000  No       \n",
       "10 France  37  67000  Yes      "
      ]
     },
     "metadata": {},
     "output_type": "display_data"
    }
   ],
   "source": [
    "df"
   ]
  },
  {
   "cell_type": "code",
   "execution_count": 3,
   "metadata": {
    "vscode": {
     "languageId": "r"
    }
   },
   "outputs": [
    {
     "data": {
      "text/html": [
       "<style>\n",
       ".list-inline {list-style: none; margin:0; padding: 0}\n",
       ".list-inline>li {display: inline-block}\n",
       ".list-inline>li:not(:last-child)::after {content: \"\\00b7\"; padding: 0 .5ex}\n",
       "</style>\n",
       "<ol class=list-inline><li>44</li><li>27</li><li>30</li><li>38</li><li>40</li><li>35</li><li>&lt;NA&gt;</li><li>48</li><li>50</li><li>37</li></ol>\n"
      ],
      "text/latex": [
       "\\begin{enumerate*}\n",
       "\\item 44\n",
       "\\item 27\n",
       "\\item 30\n",
       "\\item 38\n",
       "\\item 40\n",
       "\\item 35\n",
       "\\item <NA>\n",
       "\\item 48\n",
       "\\item 50\n",
       "\\item 37\n",
       "\\end{enumerate*}\n"
      ],
      "text/markdown": [
       "1. 44\n",
       "2. 27\n",
       "3. 30\n",
       "4. 38\n",
       "5. 40\n",
       "6. 35\n",
       "7. &lt;NA&gt;\n",
       "8. 48\n",
       "9. 50\n",
       "10. 37\n",
       "\n",
       "\n"
      ],
      "text/plain": [
       " [1] 44 27 30 38 40 35 NA 48 50 37"
      ]
     },
     "metadata": {},
     "output_type": "display_data"
    }
   ],
   "source": [
    "df$Age"
   ]
  },
  {
   "cell_type": "code",
   "execution_count": 4,
   "metadata": {
    "vscode": {
     "languageId": "r"
    }
   },
   "outputs": [
    {
     "data": {
      "text/html": [
       "<table class=\"dataframe\">\n",
       "<caption>A data.frame: 10 × 1</caption>\n",
       "<thead>\n",
       "\t<tr><th scope=col>Age</th></tr>\n",
       "\t<tr><th scope=col>&lt;int&gt;</th></tr>\n",
       "</thead>\n",
       "<tbody>\n",
       "\t<tr><td>44</td></tr>\n",
       "\t<tr><td>27</td></tr>\n",
       "\t<tr><td>30</td></tr>\n",
       "\t<tr><td>38</td></tr>\n",
       "\t<tr><td>40</td></tr>\n",
       "\t<tr><td>35</td></tr>\n",
       "\t<tr><td>NA</td></tr>\n",
       "\t<tr><td>48</td></tr>\n",
       "\t<tr><td>50</td></tr>\n",
       "\t<tr><td>37</td></tr>\n",
       "</tbody>\n",
       "</table>\n"
      ],
      "text/latex": [
       "A data.frame: 10 × 1\n",
       "\\begin{tabular}{l}\n",
       " Age\\\\\n",
       " <int>\\\\\n",
       "\\hline\n",
       "\t 44\\\\\n",
       "\t 27\\\\\n",
       "\t 30\\\\\n",
       "\t 38\\\\\n",
       "\t 40\\\\\n",
       "\t 35\\\\\n",
       "\t NA\\\\\n",
       "\t 48\\\\\n",
       "\t 50\\\\\n",
       "\t 37\\\\\n",
       "\\end{tabular}\n"
      ],
      "text/markdown": [
       "\n",
       "A data.frame: 10 × 1\n",
       "\n",
       "| Age &lt;int&gt; |\n",
       "|---|\n",
       "| 44 |\n",
       "| 27 |\n",
       "| 30 |\n",
       "| 38 |\n",
       "| 40 |\n",
       "| 35 |\n",
       "| NA |\n",
       "| 48 |\n",
       "| 50 |\n",
       "| 37 |\n",
       "\n"
      ],
      "text/plain": [
       "   Age\n",
       "1  44 \n",
       "2  27 \n",
       "3  30 \n",
       "4  38 \n",
       "5  40 \n",
       "6  35 \n",
       "7  NA \n",
       "8  48 \n",
       "9  50 \n",
       "10 37 "
      ]
     },
     "metadata": {},
     "output_type": "display_data"
    }
   ],
   "source": [
    "df[2] # recordar que indices comienzan desde 1 en R"
   ]
  },
  {
   "cell_type": "markdown",
   "metadata": {},
   "source": [
    "## tratamiento de los NA"
   ]
  },
  {
   "cell_type": "code",
   "execution_count": 5,
   "metadata": {
    "vscode": {
     "languageId": "r"
    }
   },
   "outputs": [
    {
     "data": {
      "text/html": [
       "<style>\n",
       ".list-inline {list-style: none; margin:0; padding: 0}\n",
       ".list-inline>li {display: inline-block}\n",
       ".list-inline>li:not(:last-child)::after {content: \"\\00b7\"; padding: 0 .5ex}\n",
       "</style>\n",
       "<ol class=list-inline><li>44</li><li>27</li><li>30</li><li>38</li><li>40</li><li>35</li><li>38.7777777777778</li><li>48</li><li>50</li><li>37</li></ol>\n"
      ],
      "text/latex": [
       "\\begin{enumerate*}\n",
       "\\item 44\n",
       "\\item 27\n",
       "\\item 30\n",
       "\\item 38\n",
       "\\item 40\n",
       "\\item 35\n",
       "\\item 38.7777777777778\n",
       "\\item 48\n",
       "\\item 50\n",
       "\\item 37\n",
       "\\end{enumerate*}\n"
      ],
      "text/markdown": [
       "1. 44\n",
       "2. 27\n",
       "3. 30\n",
       "4. 38\n",
       "5. 40\n",
       "6. 35\n",
       "7. 38.7777777777778\n",
       "8. 48\n",
       "9. 50\n",
       "10. 37\n",
       "\n",
       "\n"
      ],
      "text/plain": [
       " [1] 44.00000 27.00000 30.00000 38.00000 40.00000 35.00000 38.77778 48.00000\n",
       " [9] 50.00000 37.00000"
      ]
     },
     "metadata": {},
     "output_type": "display_data"
    }
   ],
   "source": [
    "# ave() permite poner una funcion a una lista\n",
    "# FUN = function(x) mean(x, na.rm=TRUE)) se parece harto a js\n",
    "# aqui mean() viene de base, no hay que importar librerias\n",
    "df$Age = ifelse(is.na(df$Age),\n",
    "                ave(df$Age, FUN= function(x) mean(x, na.rm=TRUE)),\n",
    "                df$Age)\n",
    "df$Age"
   ]
  },
  {
   "cell_type": "code",
   "execution_count": 6,
   "metadata": {
    "vscode": {
     "languageId": "r"
    }
   },
   "outputs": [
    {
     "data": {
      "text/html": [
       "<style>\n",
       ".list-inline {list-style: none; margin:0; padding: 0}\n",
       ".list-inline>li {display: inline-block}\n",
       ".list-inline>li:not(:last-child)::after {content: \"\\00b7\"; padding: 0 .5ex}\n",
       "</style>\n",
       "<ol class=list-inline><li>72000</li><li>48000</li><li>54000</li><li>61000</li><li>63777.7777777778</li><li>58000</li><li>52000</li><li>79000</li><li>83000</li><li>67000</li></ol>\n"
      ],
      "text/latex": [
       "\\begin{enumerate*}\n",
       "\\item 72000\n",
       "\\item 48000\n",
       "\\item 54000\n",
       "\\item 61000\n",
       "\\item 63777.7777777778\n",
       "\\item 58000\n",
       "\\item 52000\n",
       "\\item 79000\n",
       "\\item 83000\n",
       "\\item 67000\n",
       "\\end{enumerate*}\n"
      ],
      "text/markdown": [
       "1. 72000\n",
       "2. 48000\n",
       "3. 54000\n",
       "4. 61000\n",
       "5. 63777.7777777778\n",
       "6. 58000\n",
       "7. 52000\n",
       "8. 79000\n",
       "9. 83000\n",
       "10. 67000\n",
       "\n",
       "\n"
      ],
      "text/plain": [
       " [1] 72000.00 48000.00 54000.00 61000.00 63777.78 58000.00 52000.00 79000.00\n",
       " [9] 83000.00 67000.00"
      ]
     },
     "metadata": {},
     "output_type": "display_data"
    }
   ],
   "source": [
    "# copiar y pegar pero ahora con \"Salary\"\n",
    "df$Salary = ifelse(is.na(df$Salary),\n",
    "                ave(df$Salary, FUN= function(x) mean(x, na.rm=TRUE)),\n",
    "                df$Salary)\n",
    "df$Salary"
   ]
  },
  {
   "cell_type": "code",
   "execution_count": 7,
   "metadata": {
    "vscode": {
     "languageId": "r"
    }
   },
   "outputs": [
    {
     "data": {
      "text/html": [
       "<table class=\"dataframe\">\n",
       "<caption>A data.frame: 10 × 4</caption>\n",
       "<thead>\n",
       "\t<tr><th scope=col>Country</th><th scope=col>Age</th><th scope=col>Salary</th><th scope=col>Purchased</th></tr>\n",
       "\t<tr><th scope=col>&lt;chr&gt;</th><th scope=col>&lt;dbl&gt;</th><th scope=col>&lt;dbl&gt;</th><th scope=col>&lt;chr&gt;</th></tr>\n",
       "</thead>\n",
       "<tbody>\n",
       "\t<tr><td>France </td><td>44.00000</td><td>72000.00</td><td>No </td></tr>\n",
       "\t<tr><td>Spain  </td><td>27.00000</td><td>48000.00</td><td>Yes</td></tr>\n",
       "\t<tr><td>Germany</td><td>30.00000</td><td>54000.00</td><td>No </td></tr>\n",
       "\t<tr><td>Spain  </td><td>38.00000</td><td>61000.00</td><td>No </td></tr>\n",
       "\t<tr><td>Germany</td><td>40.00000</td><td>63777.78</td><td>Yes</td></tr>\n",
       "\t<tr><td>France </td><td>35.00000</td><td>58000.00</td><td>Yes</td></tr>\n",
       "\t<tr><td>Spain  </td><td>38.77778</td><td>52000.00</td><td>No </td></tr>\n",
       "\t<tr><td>France </td><td>48.00000</td><td>79000.00</td><td>Yes</td></tr>\n",
       "\t<tr><td>Germany</td><td>50.00000</td><td>83000.00</td><td>No </td></tr>\n",
       "\t<tr><td>France </td><td>37.00000</td><td>67000.00</td><td>Yes</td></tr>\n",
       "</tbody>\n",
       "</table>\n"
      ],
      "text/latex": [
       "A data.frame: 10 × 4\n",
       "\\begin{tabular}{llll}\n",
       " Country & Age & Salary & Purchased\\\\\n",
       " <chr> & <dbl> & <dbl> & <chr>\\\\\n",
       "\\hline\n",
       "\t France  & 44.00000 & 72000.00 & No \\\\\n",
       "\t Spain   & 27.00000 & 48000.00 & Yes\\\\\n",
       "\t Germany & 30.00000 & 54000.00 & No \\\\\n",
       "\t Spain   & 38.00000 & 61000.00 & No \\\\\n",
       "\t Germany & 40.00000 & 63777.78 & Yes\\\\\n",
       "\t France  & 35.00000 & 58000.00 & Yes\\\\\n",
       "\t Spain   & 38.77778 & 52000.00 & No \\\\\n",
       "\t France  & 48.00000 & 79000.00 & Yes\\\\\n",
       "\t Germany & 50.00000 & 83000.00 & No \\\\\n",
       "\t France  & 37.00000 & 67000.00 & Yes\\\\\n",
       "\\end{tabular}\n"
      ],
      "text/markdown": [
       "\n",
       "A data.frame: 10 × 4\n",
       "\n",
       "| Country &lt;chr&gt; | Age &lt;dbl&gt; | Salary &lt;dbl&gt; | Purchased &lt;chr&gt; |\n",
       "|---|---|---|---|\n",
       "| France  | 44.00000 | 72000.00 | No  |\n",
       "| Spain   | 27.00000 | 48000.00 | Yes |\n",
       "| Germany | 30.00000 | 54000.00 | No  |\n",
       "| Spain   | 38.00000 | 61000.00 | No  |\n",
       "| Germany | 40.00000 | 63777.78 | Yes |\n",
       "| France  | 35.00000 | 58000.00 | Yes |\n",
       "| Spain   | 38.77778 | 52000.00 | No  |\n",
       "| France  | 48.00000 | 79000.00 | Yes |\n",
       "| Germany | 50.00000 | 83000.00 | No  |\n",
       "| France  | 37.00000 | 67000.00 | Yes |\n",
       "\n"
      ],
      "text/plain": [
       "   Country Age      Salary   Purchased\n",
       "1  France  44.00000 72000.00 No       \n",
       "2  Spain   27.00000 48000.00 Yes      \n",
       "3  Germany 30.00000 54000.00 No       \n",
       "4  Spain   38.00000 61000.00 No       \n",
       "5  Germany 40.00000 63777.78 Yes      \n",
       "6  France  35.00000 58000.00 Yes      \n",
       "7  Spain   38.77778 52000.00 No       \n",
       "8  France  48.00000 79000.00 Yes      \n",
       "9  Germany 50.00000 83000.00 No       \n",
       "10 France  37.00000 67000.00 Yes      "
      ]
     },
     "metadata": {},
     "output_type": "display_data"
    }
   ],
   "source": [
    "df"
   ]
  },
  {
   "cell_type": "markdown",
   "metadata": {},
   "source": [
    "## codificacion datos categoricos"
   ]
  },
  {
   "cell_type": "code",
   "execution_count": 8,
   "metadata": {
    "vscode": {
     "languageId": "r"
    }
   },
   "outputs": [
    {
     "data": {
      "text/html": [
       "<table class=\"dataframe\">\n",
       "<caption>A data.frame: 10 × 4</caption>\n",
       "<thead>\n",
       "\t<tr><th scope=col>Country</th><th scope=col>Age</th><th scope=col>Salary</th><th scope=col>Purchased</th></tr>\n",
       "\t<tr><th scope=col>&lt;fct&gt;</th><th scope=col>&lt;dbl&gt;</th><th scope=col>&lt;dbl&gt;</th><th scope=col>&lt;fct&gt;</th></tr>\n",
       "</thead>\n",
       "<tbody>\n",
       "\t<tr><td>1</td><td>44.00000</td><td>72000.00</td><td>0</td></tr>\n",
       "\t<tr><td>2</td><td>27.00000</td><td>48000.00</td><td>1</td></tr>\n",
       "\t<tr><td>3</td><td>30.00000</td><td>54000.00</td><td>0</td></tr>\n",
       "\t<tr><td>2</td><td>38.00000</td><td>61000.00</td><td>0</td></tr>\n",
       "\t<tr><td>3</td><td>40.00000</td><td>63777.78</td><td>1</td></tr>\n",
       "\t<tr><td>1</td><td>35.00000</td><td>58000.00</td><td>1</td></tr>\n",
       "\t<tr><td>2</td><td>38.77778</td><td>52000.00</td><td>0</td></tr>\n",
       "\t<tr><td>1</td><td>48.00000</td><td>79000.00</td><td>1</td></tr>\n",
       "\t<tr><td>3</td><td>50.00000</td><td>83000.00</td><td>0</td></tr>\n",
       "\t<tr><td>1</td><td>37.00000</td><td>67000.00</td><td>1</td></tr>\n",
       "</tbody>\n",
       "</table>\n"
      ],
      "text/latex": [
       "A data.frame: 10 × 4\n",
       "\\begin{tabular}{llll}\n",
       " Country & Age & Salary & Purchased\\\\\n",
       " <fct> & <dbl> & <dbl> & <fct>\\\\\n",
       "\\hline\n",
       "\t 1 & 44.00000 & 72000.00 & 0\\\\\n",
       "\t 2 & 27.00000 & 48000.00 & 1\\\\\n",
       "\t 3 & 30.00000 & 54000.00 & 0\\\\\n",
       "\t 2 & 38.00000 & 61000.00 & 0\\\\\n",
       "\t 3 & 40.00000 & 63777.78 & 1\\\\\n",
       "\t 1 & 35.00000 & 58000.00 & 1\\\\\n",
       "\t 2 & 38.77778 & 52000.00 & 0\\\\\n",
       "\t 1 & 48.00000 & 79000.00 & 1\\\\\n",
       "\t 3 & 50.00000 & 83000.00 & 0\\\\\n",
       "\t 1 & 37.00000 & 67000.00 & 1\\\\\n",
       "\\end{tabular}\n"
      ],
      "text/markdown": [
       "\n",
       "A data.frame: 10 × 4\n",
       "\n",
       "| Country &lt;fct&gt; | Age &lt;dbl&gt; | Salary &lt;dbl&gt; | Purchased &lt;fct&gt; |\n",
       "|---|---|---|---|\n",
       "| 1 | 44.00000 | 72000.00 | 0 |\n",
       "| 2 | 27.00000 | 48000.00 | 1 |\n",
       "| 3 | 30.00000 | 54000.00 | 0 |\n",
       "| 2 | 38.00000 | 61000.00 | 0 |\n",
       "| 3 | 40.00000 | 63777.78 | 1 |\n",
       "| 1 | 35.00000 | 58000.00 | 1 |\n",
       "| 2 | 38.77778 | 52000.00 | 0 |\n",
       "| 1 | 48.00000 | 79000.00 | 1 |\n",
       "| 3 | 50.00000 | 83000.00 | 0 |\n",
       "| 1 | 37.00000 | 67000.00 | 1 |\n",
       "\n"
      ],
      "text/plain": [
       "   Country Age      Salary   Purchased\n",
       "1  1       44.00000 72000.00 0        \n",
       "2  2       27.00000 48000.00 1        \n",
       "3  3       30.00000 54000.00 0        \n",
       "4  2       38.00000 61000.00 0        \n",
       "5  3       40.00000 63777.78 1        \n",
       "6  1       35.00000 58000.00 1        \n",
       "7  2       38.77778 52000.00 0        \n",
       "8  1       48.00000 79000.00 1        \n",
       "9  3       50.00000 83000.00 0        \n",
       "10 1       37.00000 67000.00 1        "
      ]
     },
     "metadata": {},
     "output_type": "display_data"
    }
   ],
   "source": [
    "df$Country = factor(df$Country,\n",
    "                levels = c(\"France\", \"Spain\", \"Germany\"),\n",
    "                labels = c(1, 2, 3))\n",
    "\n",
    "df$Purchased = factor(df$Purchased,\n",
    "                levels = c(\"No\", \"Yes\"),\n",
    "                labels = c(0, 1))\n",
    "df"
   ]
  },
  {
   "cell_type": "markdown",
   "metadata": {},
   "source": [
    "## dividir entre datos de entrenamiento y datos de testing"
   ]
  },
  {
   "cell_type": "code",
   "execution_count": 9,
   "metadata": {
    "vscode": {
     "languageId": "r"
    }
   },
   "outputs": [],
   "source": [
    "# instalo paquete pa dividir los datos\n",
    "# install.packages(\"caTools\")\n",
    "# lo hice en la terminal (sudo R, y despues puse \"install.p ...\")"
   ]
  },
  {
   "cell_type": "code",
   "execution_count": 11,
   "metadata": {
    "vscode": {
     "languageId": "r"
    }
   },
   "outputs": [
    {
     "name": "stderr",
     "output_type": "stream",
     "text": [
      "Loading required package: caTools\n",
      "\n"
     ]
    }
   ],
   "source": [
    "require(\"caTools\")"
   ]
  },
  {
   "cell_type": "code",
   "execution_count": 13,
   "metadata": {
    "vscode": {
     "languageId": "r"
    }
   },
   "outputs": [
    {
     "data": {
      "text/html": [
       "<style>\n",
       ".list-inline {list-style: none; margin:0; padding: 0}\n",
       ".list-inline>li {display: inline-block}\n",
       ".list-inline>li:not(:last-child)::after {content: \"\\00b7\"; padding: 0 .5ex}\n",
       "</style>\n",
       "<ol class=list-inline><li>TRUE</li><li>TRUE</li><li>TRUE</li><li>TRUE</li><li>TRUE</li><li>FALSE</li><li>TRUE</li><li>TRUE</li><li>FALSE</li><li>TRUE</li></ol>\n"
      ],
      "text/latex": [
       "\\begin{enumerate*}\n",
       "\\item TRUE\n",
       "\\item TRUE\n",
       "\\item TRUE\n",
       "\\item TRUE\n",
       "\\item TRUE\n",
       "\\item FALSE\n",
       "\\item TRUE\n",
       "\\item TRUE\n",
       "\\item FALSE\n",
       "\\item TRUE\n",
       "\\end{enumerate*}\n"
      ],
      "text/markdown": [
       "1. TRUE\n",
       "2. TRUE\n",
       "3. TRUE\n",
       "4. TRUE\n",
       "5. TRUE\n",
       "6. FALSE\n",
       "7. TRUE\n",
       "8. TRUE\n",
       "9. FALSE\n",
       "10. TRUE\n",
       "\n",
       "\n"
      ],
      "text/plain": [
       " [1]  TRUE  TRUE  TRUE  TRUE  TRUE FALSE  TRUE  TRUE FALSE  TRUE"
      ]
     },
     "metadata": {},
     "output_type": "display_data"
    }
   ],
   "source": [
    "# split es simplemente un vector con falso o verdadero del tamaño de df$Purchased\n",
    "set.seed(123)\n",
    "split = sample.split(df$Purchased, SplitRatio=0.8)\n",
    "split"
   ]
  },
  {
   "cell_type": "code",
   "execution_count": 19,
   "metadata": {
    "vscode": {
     "languageId": "r"
    }
   },
   "outputs": [
    {
     "data": {
      "text/html": [
       "<table class=\"dataframe\">\n",
       "<caption>A data.frame: 2 × 4</caption>\n",
       "<thead>\n",
       "\t<tr><th></th><th scope=col>Country</th><th scope=col>Age</th><th scope=col>Salary</th><th scope=col>Purchased</th></tr>\n",
       "\t<tr><th></th><th scope=col>&lt;fct&gt;</th><th scope=col>&lt;dbl&gt;</th><th scope=col>&lt;dbl&gt;</th><th scope=col>&lt;fct&gt;</th></tr>\n",
       "</thead>\n",
       "<tbody>\n",
       "\t<tr><th scope=row>6</th><td>1</td><td>35</td><td>58000</td><td>1</td></tr>\n",
       "\t<tr><th scope=row>9</th><td>3</td><td>50</td><td>83000</td><td>0</td></tr>\n",
       "</tbody>\n",
       "</table>\n"
      ],
      "text/latex": [
       "A data.frame: 2 × 4\n",
       "\\begin{tabular}{r|llll}\n",
       "  & Country & Age & Salary & Purchased\\\\\n",
       "  & <fct> & <dbl> & <dbl> & <fct>\\\\\n",
       "\\hline\n",
       "\t6 & 1 & 35 & 58000 & 1\\\\\n",
       "\t9 & 3 & 50 & 83000 & 0\\\\\n",
       "\\end{tabular}\n"
      ],
      "text/markdown": [
       "\n",
       "A data.frame: 2 × 4\n",
       "\n",
       "| <!--/--> | Country &lt;fct&gt; | Age &lt;dbl&gt; | Salary &lt;dbl&gt; | Purchased &lt;fct&gt; |\n",
       "|---|---|---|---|---|\n",
       "| 6 | 1 | 35 | 58000 | 1 |\n",
       "| 9 | 3 | 50 | 83000 | 0 |\n",
       "\n"
      ],
      "text/plain": [
       "  Country Age Salary Purchased\n",
       "6 1       35  58000  1        \n",
       "9 3       50  83000  0        "
      ]
     },
     "metadata": {},
     "output_type": "display_data"
    }
   ],
   "source": [
    "# ahora dividomos los datos\n",
    "trainSet = subset(df, split==TRUE)\n",
    "testSet = subset(df, split==FALSE)\n",
    "testSet"
   ]
  },
  {
   "cell_type": "markdown",
   "metadata": {},
   "source": [
    "## Normalización y estandarización de los datos\n",
    "$$ x_{stand} = \\frac{x-\\bar{x}}{\\sigma_x}, \\quad\\quad\\quad       x_{norm} = \\frac{x-x_{min}}{x_{max}-x_{min}} $$"
   ]
  },
  {
   "cell_type": "code",
   "execution_count": 23,
   "metadata": {
    "vscode": {
     "languageId": "r"
    }
   },
   "outputs": [
    {
     "data": {
      "text/html": [
       "<table class=\"dataframe\">\n",
       "<caption>A data.frame: 8 × 4</caption>\n",
       "<thead>\n",
       "\t<tr><th></th><th scope=col>Country</th><th scope=col>Age</th><th scope=col>Salary</th><th scope=col>Purchased</th></tr>\n",
       "\t<tr><th></th><th scope=col>&lt;fct&gt;</th><th scope=col>&lt;dbl&gt;</th><th scope=col>&lt;dbl&gt;</th><th scope=col>&lt;fct&gt;</th></tr>\n",
       "</thead>\n",
       "<tbody>\n",
       "\t<tr><th scope=row>1</th><td>1</td><td> 0.90101716</td><td> 0.9392746</td><td>0</td></tr>\n",
       "\t<tr><th scope=row>2</th><td>2</td><td>-1.58847494</td><td>-1.3371160</td><td>1</td></tr>\n",
       "\t<tr><th scope=row>3</th><td>3</td><td>-1.14915281</td><td>-0.7680183</td><td>0</td></tr>\n",
       "\t<tr><th scope=row>4</th><td>2</td><td> 0.02237289</td><td>-0.1040711</td><td>0</td></tr>\n",
       "\t<tr><th scope=row>5</th><td>3</td><td> 0.31525431</td><td> 0.1594000</td><td>1</td></tr>\n",
       "\t<tr><th scope=row>7</th><td>2</td><td> 0.13627122</td><td>-0.9577176</td><td>0</td></tr>\n",
       "\t<tr><th scope=row>8</th><td>1</td><td> 1.48678000</td><td> 1.6032218</td><td>1</td></tr>\n",
       "\t<tr><th scope=row>10</th><td>1</td><td>-0.12406783</td><td> 0.4650265</td><td>1</td></tr>\n",
       "</tbody>\n",
       "</table>\n"
      ],
      "text/latex": [
       "A data.frame: 8 × 4\n",
       "\\begin{tabular}{r|llll}\n",
       "  & Country & Age & Salary & Purchased\\\\\n",
       "  & <fct> & <dbl> & <dbl> & <fct>\\\\\n",
       "\\hline\n",
       "\t1 & 1 &  0.90101716 &  0.9392746 & 0\\\\\n",
       "\t2 & 2 & -1.58847494 & -1.3371160 & 1\\\\\n",
       "\t3 & 3 & -1.14915281 & -0.7680183 & 0\\\\\n",
       "\t4 & 2 &  0.02237289 & -0.1040711 & 0\\\\\n",
       "\t5 & 3 &  0.31525431 &  0.1594000 & 1\\\\\n",
       "\t7 & 2 &  0.13627122 & -0.9577176 & 0\\\\\n",
       "\t8 & 1 &  1.48678000 &  1.6032218 & 1\\\\\n",
       "\t10 & 1 & -0.12406783 &  0.4650265 & 1\\\\\n",
       "\\end{tabular}\n"
      ],
      "text/markdown": [
       "\n",
       "A data.frame: 8 × 4\n",
       "\n",
       "| <!--/--> | Country &lt;fct&gt; | Age &lt;dbl&gt; | Salary &lt;dbl&gt; | Purchased &lt;fct&gt; |\n",
       "|---|---|---|---|---|\n",
       "| 1 | 1 |  0.90101716 |  0.9392746 | 0 |\n",
       "| 2 | 2 | -1.58847494 | -1.3371160 | 1 |\n",
       "| 3 | 3 | -1.14915281 | -0.7680183 | 0 |\n",
       "| 4 | 2 |  0.02237289 | -0.1040711 | 0 |\n",
       "| 5 | 3 |  0.31525431 |  0.1594000 | 1 |\n",
       "| 7 | 2 |  0.13627122 | -0.9577176 | 0 |\n",
       "| 8 | 1 |  1.48678000 |  1.6032218 | 1 |\n",
       "| 10 | 1 | -0.12406783 |  0.4650265 | 1 |\n",
       "\n"
      ],
      "text/plain": [
       "   Country Age         Salary     Purchased\n",
       "1  1        0.90101716  0.9392746 0        \n",
       "2  2       -1.58847494 -1.3371160 1        \n",
       "3  3       -1.14915281 -0.7680183 0        \n",
       "4  2        0.02237289 -0.1040711 0        \n",
       "5  3        0.31525431  0.1594000 1        \n",
       "7  2        0.13627122 -0.9577176 0        \n",
       "8  1        1.48678000  1.6032218 1        \n",
       "10 1       -0.12406783  0.4650265 1        "
      ]
     },
     "metadata": {},
     "output_type": "display_data"
    }
   ],
   "source": [
    "trainSet[,2:3] = scale(trainSet[,2:3])\n",
    "testSet[,2:3] = scale(testSet[,2:3])\n",
    "trainSet"
   ]
  }
 ],
 "metadata": {
  "kernelspec": {
   "display_name": "R",
   "language": "R",
   "name": "ir"
  },
  "language_info": {
   "codemirror_mode": "r",
   "file_extension": ".r",
   "mimetype": "text/x-r-source",
   "name": "R",
   "pygments_lexer": "r",
   "version": "4.2.0"
  },
  "orig_nbformat": 4
 },
 "nbformat": 4,
 "nbformat_minor": 2
}
