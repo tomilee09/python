{
 "cells": [
  {
   "cell_type": "code",
   "execution_count": null,
   "metadata": {},
   "outputs": [],
   "source": [
    "# en este script voy a detectar los colores rojos de mi video"
   ]
  },
  {
   "cell_type": "code",
   "execution_count": 1,
   "metadata": {},
   "outputs": [],
   "source": [
    "import cv2"
   ]
  },
  {
   "cell_type": "code",
   "execution_count": 4,
   "metadata": {},
   "outputs": [],
   "source": [
    "# esto debería activar y mostrar la cámara de mi pc\n",
    "\n",
    "# detecto mi cámara\n",
    "video = cv2.VideoCapture(0)\n",
    "\n",
    "# creo los rangos de color en los cuales trabajaré\n",
    "\n",
    "\n",
    "\n",
    "while video.isOpened():\n",
    "    grabando, contenidoVideo = video.read()\n",
    "    if grabando == True:\n",
    "        \n",
    "        ### AQUI VOY A REALIZAR LAS ACCIONES QUE MODIFICARÁN LAS IMÁGENES DE MI VIDEO\n",
    "        \n",
    "        # cambio a HSV pa detectar más fácilmente el color\n",
    "        contenidoVideo = cv2.cvtColor(contenidoVideo, cv2.COLOR_BGR2HSV)\n",
    "        # creo el rango de color que esté buscando\n",
    "        rangoRojo1 = cv2.inrange(contenidoVideo, )\n",
    "        rangoRojo2 = \n",
    "\n",
    "        \n",
    "        cv2.imshow(\"mi video :)\", contenidoVideo)\n",
    "        cv2.waitKey(1)\n",
    "        # si apreto ESC se cierra el programa\n",
    "        if cv2.waitKey(1) & 0xFF == 27:\n",
    "            cv2.destroyAllWindows()\n",
    "            break"
   ]
  },
  {
   "cell_type": "code",
   "execution_count": null,
   "metadata": {},
   "outputs": [],
   "source": [
    "\n"
   ]
  }
 ],
 "metadata": {
  "interpreter": {
   "hash": "8ed4b977494fde07e24d3c3a5e05343e85343bfdc795be25d53c17388bf2fa47"
  },
  "kernelspec": {
   "display_name": "Python 3.9.1 64-bit",
   "name": "python3"
  },
  "language_info": {
   "codemirror_mode": {
    "name": "ipython",
    "version": 3
   },
   "file_extension": ".py",
   "mimetype": "text/x-python",
   "name": "python",
   "nbconvert_exporter": "python",
   "pygments_lexer": "ipython3",
   "version": "3.9.1"
  },
  "orig_nbformat": 4
 },
 "nbformat": 4,
 "nbformat_minor": 2
}
