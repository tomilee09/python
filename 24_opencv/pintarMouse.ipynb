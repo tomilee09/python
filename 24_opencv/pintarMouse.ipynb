{
 "cells": [
  {
   "cell_type": "code",
   "execution_count": 1,
   "metadata": {},
   "outputs": [],
   "source": [
    "import numpy as np\n",
    "import cv2"
   ]
  },
  {
   "cell_type": "code",
   "execution_count": 2,
   "metadata": {},
   "outputs": [],
   "source": [
    "# creo una funcion pa dibujar circulos\n",
    "def drawCircles(event, x, y, flags, param):\n",
    "    # pasa algo si hago click izquierdo con el mouse\n",
    "    if event == cv2.EVENT_LBUTTONDOWN:\n",
    "        # se dibuja un circulo en la posicion que apreté\n",
    "        cv2.circle(img, (x, y), 100, (0, 255, 0), -1)\n",
    "    # pasa algo si hago click derecho con el mouse\n",
    "    elif event == cv2.EVENT_RBUTTONDOWN:\n",
    "        cv2.circle(img, (x, y), 100, (255, 255, 0), -1)"
   ]
  },
  {
   "cell_type": "code",
   "execution_count": 31,
   "metadata": {},
   "outputs": [],
   "source": [
    "# creo una funcion que dibuje un rectángulo de forma continua\n",
    "\n",
    "drawing=False # variable para ver si estoy moviendo el mouse o no\n",
    "x_i, y_i = 0, 0 # posicion inicial de donde presioné\n",
    "\n",
    "def drawRectangles(event, x, y, flags, params):\n",
    "    global drawing, x_i, y_i\n",
    "    if event == cv2.EVENT_LBUTTONDOWN:\n",
    "        drawing=True\n",
    "        x_i, y_i = x, y # la posicion inicial será donde presioné aqui, el x, y lo recibo ocntinuamente en la funcion\n",
    "    \n",
    "    elif event == cv2.EVENT_MOUSEMOVE:\n",
    "        if drawing==True:\n",
    "            cv2.rectangle(img, (x_i, y_i), (x, y), (0, 0, 255), -1)\n",
    "    \n",
    "    elif event == cv2.EVENT_LBUTTONUP:\n",
    "        drawing=False\n",
    "\n"
   ]
  },
  {
   "cell_type": "code",
   "execution_count": 23,
   "metadata": {},
   "outputs": [],
   "source": [
    "# probando el circulo\n",
    "cv2.namedWindow(winname=\"dibujo\") # esto es pa ponerle un nombre al ploteo y poder conectarlo con la funcion\n",
    "cv2.setMouseCallback(\"dibujo\", drawCircles) # esta es la forma de activar la funcion\n",
    "img = np.zeros((500, 500, 3))\n",
    "while True:\n",
    "    cv2.imshow(\"dibujo\", img)\n",
    "    cv2.waitKey(1)\n",
    "    # si apreto ESC se cierra el programa\n",
    "    if cv2.waitKey(20) & 0xFF == 27:\n",
    "        cv2.destroyAllWindows()\n",
    "        break"
   ]
  },
  {
   "cell_type": "code",
   "execution_count": 32,
   "metadata": {},
   "outputs": [],
   "source": [
    "# probando el rectangulo\n",
    "cv2.namedWindow(winname=\"dibujo\") # esto es pa ponerle un nombre al ploteo y poder conectarlo con la funcion\n",
    "cv2.setMouseCallback(\"dibujo\", drawRectangles) # esta es la forma de activar la funcion\n",
    "img = np.zeros((500, 500, 3))\n",
    "while True:\n",
    "    cv2.imshow(\"dibujo\", img)\n",
    "    cv2.waitKey(1)\n",
    "    # si apreto ESC se cierra el programa\n",
    "    if cv2.waitKey(1) & 0xFF == 27:\n",
    "        cv2.destroyAllWindows()\n",
    "        break"
   ]
  }
 ],
 "metadata": {
  "interpreter": {
   "hash": "8ed4b977494fde07e24d3c3a5e05343e85343bfdc795be25d53c17388bf2fa47"
  },
  "kernelspec": {
   "display_name": "Python 3.9.1 64-bit",
   "name": "python3"
  },
  "language_info": {
   "codemirror_mode": {
    "name": "ipython",
    "version": 3
   },
   "file_extension": ".py",
   "mimetype": "text/x-python",
   "name": "python",
   "nbconvert_exporter": "python",
   "pygments_lexer": "ipython3",
   "version": "3.9.1"
  },
  "orig_nbformat": 4
 },
 "nbformat": 4,
 "nbformat_minor": 2
}
