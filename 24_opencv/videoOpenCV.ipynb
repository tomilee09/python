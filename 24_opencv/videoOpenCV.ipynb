{
 "cells": [
  {
   "cell_type": "code",
   "execution_count": 1,
   "metadata": {},
   "outputs": [],
   "source": [
    "import cv2"
   ]
  },
  {
   "cell_type": "code",
   "execution_count": 4,
   "metadata": {},
   "outputs": [],
   "source": [
    "# esto debería activar y mostrar la cámara de mi pc\n",
    "\n",
    "video = cv2.VideoCapture(0)\n",
    "\n",
    "while video.isOpened():\n",
    "    grabando, contenidoVideo = video.read()\n",
    "    if grabando == True:\n",
    "        cv2.imshow(\"mi video :)\", contenidoVideo)\n",
    "        cv2.waitKey(1)\n",
    "        # si apreto ESC se cierra el programa\n",
    "        if cv2.waitKey(1) & 0xFF == 27:\n",
    "            cv2.destroyAllWindows()\n",
    "            break"
   ]
  },
  {
   "cell_type": "code",
   "execution_count": 12,
   "metadata": {},
   "outputs": [
    {
     "name": "stdout",
     "output_type": "stream",
     "text": [
      "640 480 -1\n"
     ]
    }
   ],
   "source": [
    "# esto debería activar y grabar su contenido\n",
    "\n",
    "video = cv2.VideoCapture(0)\n",
    "\n",
    "# para poner bien los datos de la camara podemos obtener la info de la camara del pc\n",
    "width = int(video.get(cv2.CAP_PROP_FRAME_WIDTH))\n",
    "height = int(video.get(cv2.CAP_PROP_FRAME_HEIGHT))\n",
    "print(width, height)\n",
    "\n",
    "# windows -> DIVX\n",
    "# macos o linux -> XVID\n",
    "grabacion= cv2.VideoWriter(\"videoGrabado.avi\", cv2.VideoWriter_fourcc(*\"XVID\"), 20, (width, height))\n",
    "\n",
    "while video.isOpened():\n",
    "    grabando, contenidoVideo = video.read()\n",
    "    if grabando == True:\n",
    "        cv2.imshow(\"mi video :)\", contenidoVideo)\n",
    "        grabacion.write(contenidoVideo)\n",
    "        cv2.waitKey(1)\n",
    "        # si apreto ESC se cierra el programa\n",
    "        if cv2.waitKey(1) & 0xFF == 27:\n",
    "            grabacion.release()\n",
    "            cv2.destroyAllWindows()\n",
    "\n",
    "            break"
   ]
  },
  {
   "cell_type": "code",
   "execution_count": 3,
   "metadata": {},
   "outputs": [],
   "source": [
    "# reproducir video\n",
    "\n",
    "video = cv2.VideoCapture(\"videoGrabado.avi\")\n",
    "\n",
    "while video.isOpened():\n",
    "    grabando, contenidoVideo = video.read()\n",
    "    if grabando == True:\n",
    "        cv2.imshow(\"mi video :)\", contenidoVideo)\n",
    "        cv2.waitKey(60) # esto pues antes le habia puesto que grabara a 20FPS, es decir, las imagenes pasan cada 1000/20 milisegundos = 50 milisegundos\n",
    "        # si apreto ESC se cierra el programa\n",
    "        if cv2.waitKey(1) & 0xFF == 27:\n",
    "            cv2.destroyAllWindows()\n",
    "            break\n",
    "    else: break # pa que no se pegue cuando se acaba la reproduccion"
   ]
  }
 ],
 "metadata": {
  "interpreter": {
   "hash": "8ed4b977494fde07e24d3c3a5e05343e85343bfdc795be25d53c17388bf2fa47"
  },
  "kernelspec": {
   "display_name": "Python 3.9.1 64-bit",
   "name": "python3"
  },
  "language_info": {
   "codemirror_mode": {
    "name": "ipython",
    "version": 3
   },
   "file_extension": ".py",
   "mimetype": "text/x-python",
   "name": "python",
   "nbconvert_exporter": "python",
   "pygments_lexer": "ipython3",
   "version": "3.9.1"
  },
  "orig_nbformat": 4
 },
 "nbformat": 4,
 "nbformat_minor": 2
}
