{
 "cells": [
  {
   "cell_type": "code",
   "execution_count": 1,
   "metadata": {},
   "outputs": [],
   "source": [
    "import cv2\n",
    "import matplotlib.pyplot as plt\n",
    "%matplotlib inline\n",
    "import numpy as np"
   ]
  },
  {
   "cell_type": "code",
   "execution_count": 2,
   "metadata": {},
   "outputs": [
    {
     "data": {
      "text/plain": [
       "array([[[ 46,   0,  22],\n",
       "        [ 46,   0,  22],\n",
       "        [ 46,   0,  22],\n",
       "        ...,\n",
       "        [  2,   4, 122],\n",
       "        [  4,   4, 120],\n",
       "        [  4,   4, 120]],\n",
       "\n",
       "       [[ 46,   0,  22],\n",
       "        [ 46,   0,  22],\n",
       "        [ 46,   0,  22],\n",
       "        ...,\n",
       "        [  2,   4, 122],\n",
       "        [  4,   4, 120],\n",
       "        [  4,   4, 120]],\n",
       "\n",
       "       [[ 46,   0,  22],\n",
       "        [ 46,   0,  22],\n",
       "        [ 46,   0,  22],\n",
       "        ...,\n",
       "        [  2,   4, 122],\n",
       "        [  4,   4, 120],\n",
       "        [  4,   4, 120]],\n",
       "\n",
       "       ...,\n",
       "\n",
       "       [[ 46,   0,  22],\n",
       "        [ 46,   0,  22],\n",
       "        [ 46,   0,  22],\n",
       "        ...,\n",
       "        [  2,   4, 122],\n",
       "        [  4,   4, 120],\n",
       "        [  4,   4, 120]],\n",
       "\n",
       "       [[ 46,   0,  22],\n",
       "        [ 46,   0,  22],\n",
       "        [ 46,   0,  22],\n",
       "        ...,\n",
       "        [  2,   4, 122],\n",
       "        [  4,   4, 120],\n",
       "        [  4,   4, 120]],\n",
       "\n",
       "       [[ 46,   0,  22],\n",
       "        [ 46,   0,  22],\n",
       "        [ 46,   0,  22],\n",
       "        ...,\n",
       "        [  2,   4, 122],\n",
       "        [  4,   4, 120],\n",
       "        [  4,   4, 120]]], dtype=uint8)"
      ]
     },
     "execution_count": 2,
     "metadata": {},
     "output_type": "execute_result"
    }
   ],
   "source": [
    "# se importa la imagen con cv2, esto permite no tener que usar pillow (PIL) ni numpy\n",
    "img = cv2.imread(\"rgb.jpeg\") # type = numpy.ndarray\n",
    "img"
   ]
  },
  {
   "cell_type": "code",
   "execution_count": 3,
   "metadata": {},
   "outputs": [
    {
     "data": {
      "text/plain": [
       "<matplotlib.image.AxesImage at 0x24f8723a5b0>"
      ]
     },
     "execution_count": 3,
     "metadata": {},
     "output_type": "execute_result"
    },
    {
     "data": {
      "image/png": "[encoded data removed]",
      "text/plain": [
       "<Figure size 432x288 with 1 Axes>"
      ]
     },
     "metadata": {
      "needs_background": "light"
     },
     "output_type": "display_data"
    }
   ],
   "source": [
    "# imprimimos la imagen pero esta tiene los colores cambiados\n",
    "# normalmente el orden es -> RGB\n",
    "# pero en opencv el orden es -> BGR\n",
    "# es decir, el azul y el rojo tienen las posiciones intercambiadas\n",
    "plt.imshow(img)"
   ]
  },
  {
   "cell_type": "code",
   "execution_count": 4,
   "metadata": {},
   "outputs": [
    {
     "data": {
      "text/plain": [
       "<matplotlib.image.AxesImage at 0x24f8754c0a0>"
      ]
     },
     "execution_count": 4,
     "metadata": {},
     "output_type": "execute_result"
    },
    {
     "data": {
      "image/png": "[encoded data removed]",
      "text/plain": [
       "<Figure size 432x288 with 1 Axes>"
      ]
     },
     "metadata": {
      "needs_background": "light"
     },
     "output_type": "display_data"
    }
   ],
   "source": [
    "# problema anterior arreglado\n",
    "fix_img = cv2.cvtColor(img, cv2.COLOR_BGR2RGB)\n",
    "plt.imshow(fix_img)"
   ]
  },
  {
   "cell_type": "code",
   "execution_count": 5,
   "metadata": {},
   "outputs": [
    {
     "data": {
      "text/plain": [
       "<matplotlib.image.AxesImage at 0x24f875bc790>"
      ]
     },
     "execution_count": 5,
     "metadata": {},
     "output_type": "execute_result"
    },
    {
     "data": {
      "image/png": "[encoded data removed]",
      "text/plain": [
       "<Figure size 432x288 with 1 Axes>"
      ]
     },
     "metadata": {
      "needs_background": "light"
     },
     "output_type": "display_data"
    }
   ],
   "source": [
    "# puedo poner argumentos de inmediato al cargar los archivos\n",
    "img_modificada = cv2.imread(\"rgb.jpeg\", cv2.IMREAD_GRAYSCALE)\n",
    "plt.imshow(img_modificada, cmap= \"gray\")"
   ]
  },
  {
   "cell_type": "code",
   "execution_count": 6,
   "metadata": {},
   "outputs": [
    {
     "data": {
      "text/plain": [
       "<matplotlib.image.AxesImage at 0x24f8a9ff850>"
      ]
     },
     "execution_count": 6,
     "metadata": {},
     "output_type": "execute_result"
    },
    {
     "data": {
      "image/png": "[encoded data removed]",
      "text/plain": [
       "<Figure size 432x288 with 1 Axes>"
      ]
     },
     "metadata": {
      "needs_background": "light"
     },
     "output_type": "display_data"
    }
   ],
   "source": [
    "# I can resize the image\n",
    "resize_image = cv2.resize(fix_img, (100, 200))\n",
    "plt.imshow(resize_image)"
   ]
  },
  {
   "cell_type": "code",
   "execution_count": 7,
   "metadata": {},
   "outputs": [
    {
     "data": {
      "text/plain": [
       "<matplotlib.image.AxesImage at 0x24f8aa63d00>"
      ]
     },
     "execution_count": 7,
     "metadata": {},
     "output_type": "execute_result"
    },
    {
     "data": {
      "image/png": "[encoded data removed]",
      "text/plain": [
       "<Figure size 432x288 with 1 Axes>"
      ]
     },
     "metadata": {
      "needs_background": "light"
     },
     "output_type": "display_data"
    }
   ],
   "source": [
    "# I can flip images\n",
    "flip_img = cv2.flip(fix_img, 1) # el 1 indica el eje que estoy tomando, en este caso el vertical (por tanto las cosas se mueven de izquierda a derecha y viceversa)\n",
    "plt.imshow(flip_img)\n",
    "# si quiero tomar los 2 ejes tengo que poner -1"
   ]
  },
  {
   "cell_type": "code",
   "execution_count": 8,
   "metadata": {},
   "outputs": [
    {
     "data": {
      "text/plain": [
       "True"
      ]
     },
     "execution_count": 8,
     "metadata": {},
     "output_type": "execute_result"
    }
   ],
   "source": [
    "# I can save the images with imwrite\n",
    "cv2.imwrite(\"nueva_imagen_sin_rgb.jpeg\", img_modificada)"
   ]
  },
  {
   "cell_type": "code",
   "execution_count": 9,
   "metadata": {},
   "outputs": [
    {
     "data": {
      "text/plain": [
       "<matplotlib.image.AxesImage at 0x24f8b308a60>"
      ]
     },
     "execution_count": 9,
     "metadata": {},
     "output_type": "execute_result"
    },
    {
     "data": {
      "image/png": "[encoded data removed]",
      "text/plain": [
       "<Figure size 1152x864 with 1 Axes>"
      ]
     },
     "metadata": {
      "needs_background": "light"
     },
     "output_type": "display_data"
    }
   ],
   "source": [
    "# para mostrar las imagenes a mayor tamaño (sin modificar la imagen misma) hay que usar el siguiente comando\n",
    "fig = plt.figure(figsize=(16, 12))\n",
    "ax = fig.add_subplot(111) # asume simplemente que esta linea es necesaria, eso dijo el tipo que esta enseñando\n",
    "ax.imshow(fix_img)"
   ]
  },
  {
   "cell_type": "code",
   "execution_count": 15,
   "metadata": {},
   "outputs": [],
   "source": [
    "# puedo mostrar una imagen fuera de jupyter notebook\n",
    "cv2.imshow(\"colores\", fix_img)\n",
    "cv2.waitKey(0) # la imagen estará abierta hasta que aprete cualquier tecla del teclado\n",
    "cv2.destroyAllWindows()"
   ]
  }
 ],
 "metadata": {
  "interpreter": {
   "hash": "8ed4b977494fde07e24d3c3a5e05343e85343bfdc795be25d53c17388bf2fa47"
  },
  "kernelspec": {
   "display_name": "Python 3.9.1 64-bit",
   "name": "python3"
  },
  "language_info": {
   "codemirror_mode": {
    "name": "ipython",
    "version": 3
   },
   "file_extension": ".py",
   "mimetype": "text/x-python",
   "name": "python",
   "nbconvert_exporter": "python",
   "pygments_lexer": "ipython3",
   "version": "3.9.1"
  },
  "orig_nbformat": 4
 },
 "nbformat": 4,
 "nbformat_minor": 2
}
