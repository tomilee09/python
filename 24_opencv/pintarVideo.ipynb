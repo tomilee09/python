{
 "cells": [
  {
   "cell_type": "code",
   "execution_count": 24,
   "metadata": {},
   "outputs": [],
   "source": [
    "# Esto va a servir pa pintar mientras se esté mostrando el contenido de la cámara"
   ]
  },
  {
   "cell_type": "code",
   "execution_count": 25,
   "metadata": {},
   "outputs": [],
   "source": [
    "import cv2\n",
    "import numpy as np"
   ]
  },
  {
   "cell_type": "code",
   "execution_count": 26,
   "metadata": {},
   "outputs": [],
   "source": [
    "# los x, y que recible la funcion son los que apunta el mouse en ese momento\n",
    "def drawRectangle(event, x, y, flags, param):\n",
    "    \"\"\" Función que me sirve pa dibujar un circulo dentro de un video :)\n",
    "    pa ello tengo que crearme variables globales que luego usaré dentro de la zona donde se muestra la imagen (dejé un comentario en mayúsculas de la zona)\"\"\"\n",
    "    global pt1, pt2, clickArribaIzq, clickAbajoDer\n",
    "    if event == cv2.EVENT_LBUTTONDOWN:\n",
    "        \n",
    "        # vamos a poner que si ya hay un cuadrado antes creado lo vamos a \"borrar\" y vamos a crear uno nuevo (en realidad simplemente voy a resetear las variables)\n",
    "        if clickArribaIzq == True and clickAbajoDer == True:\n",
    "            pt1 = (0, 0)\n",
    "            pt2 = (0, 0)\n",
    "            clickArribaIzq = False\n",
    "            clickAbajoDer = False\n",
    "        \n",
    "        if clickArribaIzq == False:\n",
    "            pt1 = (x, y)\n",
    "            clickArribaIzq = True\n",
    "\n",
    "        elif clickAbajoDer == False:\n",
    "            pt2 = (x, y)\n",
    "            clickAbajoDer = True    \n",
    "\n",
    "# variables globales que usaré\n",
    "pt1 = (0, 0)\n",
    "pt2 = (0, 0)\n",
    "clickArribaIzq = False\n",
    "clickAbajoDer = False"
   ]
  },
  {
   "cell_type": "code",
   "execution_count": 27,
   "metadata": {},
   "outputs": [
    {
     "name": "stdout",
     "output_type": "stream",
     "text": [
      "640 480\n"
     ]
    }
   ],
   "source": [
    "video = cv2.VideoCapture(0)\n",
    "\n",
    "# unimos la funcion con la camara\n",
    "cv2.namedWindow(\"test\")\n",
    "cv2.setMouseCallback(\"test\", drawRectangle)\n",
    "\n",
    "# para poner bien los datos de la camara podemos obtener la info de la camara del pc\n",
    "width = int(video.get(cv2.CAP_PROP_FRAME_WIDTH))\n",
    "height = int(video.get(cv2.CAP_PROP_FRAME_HEIGHT))\n",
    "print(width, height)\n",
    "\n",
    "while video.isOpened():\n",
    "    grabando, contenidoVideo = video.read()\n",
    "    if grabando == True:\n",
    "        #######################################################################\n",
    "        # AQUI MODIFICO LA IMAGEN\n",
    "        # si hago un click creo un circulo pa ver donde está el primer punto\n",
    "        if clickArribaIzq:\n",
    "            cv2.circle(contenidoVideo, pt1, 10, (0, 0, 255), -1)\n",
    "        \n",
    "        # si hago un segundo click ya puedo crear el rectángulo en la imagen\n",
    "        if clickAbajoDer:\n",
    "            cv2.rectangle(contenidoVideo, pt1, pt2, (0, 0, 255), 10)\n",
    "        \n",
    "        # este rectángulo se mantiene todo el tiempo, lo puse porque queda lindo\n",
    "        cv2.rectangle(contenidoVideo, (0, 0), (width, height), (255, 0, 0), 10)\n",
    "        \n",
    "        ########################################################################\n",
    "        # muestro el contenido de la cámara\n",
    "        cv2.imshow(\"test\", contenidoVideo)\n",
    "        cv2.waitKey(1)\n",
    "        # si apreto ESC se cierra el programa\n",
    "        if cv2.waitKey(1) & 0xFF == 27:\n",
    "            cv2.destroyAllWindows()\n",
    "            break\n",
    "    else: break"
   ]
  }
 ],
 "metadata": {
  "interpreter": {
   "hash": "8ed4b977494fde07e24d3c3a5e05343e85343bfdc795be25d53c17388bf2fa47"
  },
  "kernelspec": {
   "display_name": "Python 3.9.1 64-bit",
   "name": "python3"
  },
  "language_info": {
   "codemirror_mode": {
    "name": "ipython",
    "version": 3
   },
   "file_extension": ".py",
   "mimetype": "text/x-python",
   "name": "python",
   "nbconvert_exporter": "python",
   "pygments_lexer": "ipython3",
   "version": "3.9.1"
  },
  "orig_nbformat": 4
 },
 "nbformat": 4,
 "nbformat_minor": 2
}
