{
 "metadata": {
  "language_info": {
   "codemirror_mode": {
    "name": "ipython",
    "version": 3
   },
   "file_extension": ".py",
   "mimetype": "text/x-python",
   "name": "python",
   "nbconvert_exporter": "python",
   "pygments_lexer": "ipython3",
   "version": "3.8.5-final"
  },
  "orig_nbformat": 2,
  "kernelspec": {
   "name": "python3",
   "display_name": "Python 3",
   "language": "python"
  }
 },
 "nbformat": 4,
 "nbformat_minor": 2,
 "cells": [
  {
   "cell_type": "code",
   "execution_count": 43,
   "metadata": {},
   "outputs": [],
   "source": [
    "import numpy as np\n",
    "import matplotlib.pyplot as plt\n",
    "\n",
    "def graficarVectores(vectores, alpha = 1):\n",
    "\n",
    "    plt.figure()\n",
    "    plt.axvline(x=0, color = 'grey', zorder =0)\n",
    "    plt.axhline(y=0, color = 'grey', zorder =0)\n",
    "\n",
    "    min_x = 0\n",
    "    max_x = 0\n",
    "    min_y = 0\n",
    "    max_y = 0\n",
    "    for i in range(len(vectores)):\n",
    "        min_x = min(vectores[i][0],min_x) \n",
    "        max_x = max(vectores[i][0],max_x)  \n",
    "        min_y = min(vectores[i][1],min_y)\n",
    "        max_y = max(vectores[i][1],max_y)  \n",
    "    plt.xlim(min_x-1,max_x+1)\n",
    "    plt.ylim(min_y-1,max_y+1)\n",
    "\n",
    "    for i in range(len(vectores)):\n",
    "        x = np.concatenate([[0,0], vectores[i]])\n",
    "        plt.quiver(\n",
    "            x[0],\n",
    "            x[1],\n",
    "            x[2],\n",
    "            x[3],\n",
    "            angles='xy', scale_units='xy', scale=1, alpha=alpha\n",
    "        )\n",
    "\n"
   ]
  }
 ]
}