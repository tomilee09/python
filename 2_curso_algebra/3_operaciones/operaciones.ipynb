{
 "metadata": {
  "language_info": {
   "codemirror_mode": {
    "name": "ipython",
    "version": 3
   },
   "file_extension": ".py",
   "mimetype": "text/x-python",
   "name": "python",
   "nbconvert_exporter": "python",
   "pygments_lexer": "ipython3",
   "version": "3.8.5-final"
  },
  "orig_nbformat": 2,
  "kernelspec": {
   "name": "python3",
   "display_name": "Python 3.8.5 64-bit",
   "metadata": {
    "interpreter": {
     "hash": "916dbcbb3f70747c44a77c7bcd40155683ae19c65e1c03b4aa3499c5328201f1"
    }
   }
  }
 },
 "nbformat": 4,
 "nbformat_minor": 2,
 "cells": [
  {
   "cell_type": "code",
   "execution_count": 2,
   "metadata": {},
   "outputs": [
    {
     "output_type": "stream",
     "name": "stdout",
     "text": [
      "todo ok\n"
     ]
    }
   ],
   "source": [
    "import numpy as np\n",
    "escalar = 1.2\n",
    "vector = np.array([1, 2, 3])\n",
    "matriz = np.array([\n",
    "    [1, 2, 3],\n",
    "    [4, 5, 6],\n",
    "    [7, 8, 9], \n",
    "    ])\n",
    "tensor = np.array([\n",
    "    [\n",
    "    [1, 2, 3],\n",
    "    [4, 5, 6],\n",
    "    [7, 8, 9], \n",
    "    ]\n",
    "    ,\n",
    "    [\n",
    "    [1, 2, 3],\n",
    "    [4, 5, 6],\n",
    "    [7, 8, 9], \n",
    "    ]\n",
    "    ,\n",
    "    [\n",
    "    [1, 2, 3],\n",
    "    [4, 5, 6],\n",
    "    [7, 8, 9], \n",
    "    ]\n",
    "])\n",
    "print(\"todo ok\")"
   ]
  },
  {
   "source": [
    "aqui se va a transponer"
   ],
   "cell_type": "markdown",
   "metadata": {}
  },
  {
   "cell_type": "code",
   "execution_count": 2,
   "metadata": {},
   "outputs": [
    {
     "output_type": "stream",
     "name": "stdout",
     "text": [
      "[[1 4 7]\n [2 5 8]\n [3 6 9]]\n"
     ]
    }
   ],
   "source": [
    "matriz_transpuesta = matriz.T\n",
    "\n",
    "print(matriz_transpuesta)"
   ]
  },
  {
   "cell_type": "code",
   "execution_count": 3,
   "metadata": {},
   "outputs": [
    {
     "output_type": "stream",
     "name": "stdout",
     "text": [
      "[[[1 1 1]\n  [4 4 4]\n  [7 7 7]]\n\n [[2 2 2]\n  [5 5 5]\n  [8 8 8]]\n\n [[3 3 3]\n  [6 6 6]\n  [9 9 9]]]\n"
     ]
    }
   ],
   "source": [
    "print(tensor.T)"
   ]
  },
  {
   "source": [
    "suma de matrices"
   ],
   "cell_type": "markdown",
   "metadata": {}
  },
  {
   "cell_type": "code",
   "execution_count": 4,
   "metadata": {},
   "outputs": [
    {
     "output_type": "stream",
     "name": "stdout",
     "text": [
      "[[ 2  4  6]\n [ 8 10 12]\n [14 16 18]]\n"
     ]
    }
   ],
   "source": [
    "print(matriz + matriz)"
   ]
  },
  {
   "cell_type": "code",
   "execution_count": 5,
   "metadata": {},
   "outputs": [
    {
     "output_type": "stream",
     "name": "stdout",
     "text": [
      "[[[ 2  4  6]\n  [ 8 10 12]\n  [14 16 18]]\n\n [[ 2  4  6]\n  [ 8 10 12]\n  [14 16 18]]\n\n [[ 2  4  6]\n  [ 8 10 12]\n  [14 16 18]]]\n"
     ]
    }
   ],
   "source": [
    "print(tensor + tensor)"
   ]
  },
  {
   "source": [
    "multiplicacion por escalar"
   ],
   "cell_type": "markdown",
   "metadata": {}
  },
  {
   "cell_type": "code",
   "execution_count": 6,
   "metadata": {},
   "outputs": [
    {
     "output_type": "stream",
     "name": "stdout",
     "text": [
      "[[ 3  6  9]\n [12 15 18]\n [21 24 27]]\n"
     ]
    }
   ],
   "source": [
    "print(3*matriz)"
   ]
  },
  {
   "cell_type": "code",
   "execution_count": 7,
   "metadata": {},
   "outputs": [
    {
     "output_type": "stream",
     "name": "stdout",
     "text": [
      "[[[ 3  6  9]\n  [12 15 18]\n  [21 24 27]]\n\n [[ 3  6  9]\n  [12 15 18]\n  [21 24 27]]\n\n [[ 3  6  9]\n  [12 15 18]\n  [21 24 27]]]\n"
     ]
    }
   ],
   "source": [
    "print(3*tensor)"
   ]
  },
  {
   "source": [
    "sumar un escalar al numpy.array"
   ],
   "cell_type": "markdown",
   "metadata": {}
  },
  {
   "cell_type": "code",
   "execution_count": 13,
   "metadata": {},
   "outputs": [
    {
     "output_type": "stream",
     "name": "stdout",
     "text": [
      "[[ 3.76  4.76  5.76]\n [ 6.76  7.76  8.76]\n [ 9.76 10.76 11.76]]\n[[[ 3.76  4.76  5.76]\n  [ 6.76  7.76  8.76]\n  [ 9.76 10.76 11.76]]\n\n [[ 3.76  4.76  5.76]\n  [ 6.76  7.76  8.76]\n  [ 9.76 10.76 11.76]]\n\n [[ 3.76  4.76  5.76]\n  [ 6.76  7.76  8.76]\n  [ 9.76 10.76 11.76]]]\n"
     ]
    }
   ],
   "source": [
    "print(matriz +2.76)\n",
    "print(tensor +2.76)"
   ]
  },
  {
   "source": [
    "multiplicacion entre matrices"
   ],
   "cell_type": "markdown",
   "metadata": {}
  },
  {
   "cell_type": "code",
   "execution_count": 16,
   "metadata": {},
   "outputs": [
    {
     "output_type": "stream",
     "name": "stdout",
     "text": [
      "[[ 30  36  42]\n [ 66  81  96]\n [102 126 150]]\n\n[[ 30  36  42]\n [ 66  81  96]\n [102 126 150]]\n"
     ]
    }
   ],
   "source": [
    "print(matriz.dot(matriz))\n",
    "#o tambien se puede lo siguiente\n",
    "print() # aqui solo dejo un espacio\n",
    "print(np.dot(matriz, matriz)) "
   ]
  },
  {
   "source": [
    "suma de vectores y matrices (broadcasting), lo que se hace es que el vector se repite (en este caso 3 veces) y se suma con cada fila"
   ],
   "cell_type": "markdown",
   "metadata": {}
  },
  {
   "cell_type": "code",
   "execution_count": 17,
   "metadata": {},
   "outputs": [
    {
     "output_type": "stream",
     "name": "stdout",
     "text": [
      "[[ 2  4  6]\n [ 5  7  9]\n [ 8 10 12]]\n"
     ]
    }
   ],
   "source": [
    "print(matriz+vector)"
   ]
  },
  {
   "source": [
    "crear una matriz identidad de cualquier dimension"
   ],
   "cell_type": "markdown",
   "metadata": {}
  },
  {
   "cell_type": "code",
   "execution_count": 18,
   "metadata": {},
   "outputs": [
    {
     "output_type": "stream",
     "name": "stdout",
     "text": [
      "[[1. 0. 0. 0.]\n [0. 1. 0. 0.]\n [0. 0. 1. 0.]\n [0. 0. 0. 1.]]\n"
     ]
    }
   ],
   "source": [
    "A= np.eye(4)\n",
    "print(A)"
   ]
  },
  {
   "cell_type": "code",
   "execution_count": null,
   "metadata": {},
   "outputs": [],
   "source": [
    "calcular la inversa"
   ]
  },
  {
   "cell_type": "code",
   "execution_count": 28,
   "metadata": {},
   "outputs": [
    {
     "output_type": "stream",
     "name": "stdout",
     "text": [
      "[[-0.10294118  0.16911765 -0.00735294]\n [-0.47058824 -0.44117647  0.32352941]\n [ 0.42647059  0.22794118 -0.18382353]]\n[[ 1.  0.  0.]\n [ 0.  1. -0.]\n [ 0.  0.  1.]]\n"
     ]
    }
   ],
   "source": [
    "#HACK PARA QUE LOS NUMEROS CHICOS SEAN 0\n",
    "np.set_printoptions(suppress=True)\n",
    "\n",
    "B = np.array([\n",
    "    [1, 4, 7],\n",
    "    [7, 3, 5],\n",
    "    [11, 13, 17]\n",
    "])\n",
    "inversa_B = np.linalg.inv(B)\n",
    "print(inversa_B)\n",
    "print(B.dot(inversa_B))"
   ]
  },
  {
   "source": [
    "calcular determinante"
   ],
   "cell_type": "markdown",
   "metadata": {}
  },
  {
   "cell_type": "code",
   "execution_count": 31,
   "metadata": {},
   "outputs": [
    {
     "output_type": "stream",
     "name": "stdout",
     "text": [
      "6.66133814775094e-16\n"
     ]
    }
   ],
   "source": [
    "determinante_matriz = np.linalg.det(matriz)\n",
    "print(determinante_matriz)\n"
   ]
  },
  {
   "source": [
    "crear una diagonal"
   ],
   "cell_type": "markdown",
   "metadata": {}
  },
  {
   "cell_type": "code",
   "execution_count": 4,
   "metadata": {},
   "outputs": [
    {
     "output_type": "stream",
     "name": "stdout",
     "text": [
      "[[1 0 0]\n [0 2 0]\n [0 0 3]]\n"
     ]
    }
   ],
   "source": [
    "print(np.diag([1, 2, 3]))"
   ]
  },
  {
   "cell_type": "code",
   "execution_count": null,
   "metadata": {},
   "outputs": [],
   "source": []
  }
 ]
}