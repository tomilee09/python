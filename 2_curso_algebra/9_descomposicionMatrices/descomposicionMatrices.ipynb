{
 "metadata": {
  "language_info": {
   "codemirror_mode": {
    "name": "ipython",
    "version": 3
   },
   "file_extension": ".py",
   "mimetype": "text/x-python",
   "name": "python",
   "nbconvert_exporter": "python",
   "pygments_lexer": "ipython3",
   "version": "3.8.5-final"
  },
  "orig_nbformat": 2,
  "kernelspec": {
   "name": "python3",
   "display_name": "Python 3",
   "language": "python"
  }
 },
 "nbformat": 4,
 "nbformat_minor": 2,
 "cells": [
  {
   "cell_type": "code",
   "execution_count": 3,
   "metadata": {},
   "outputs": [],
   "source": [
    "import numpy as np \n",
    "import matplotlib.pyplot as plt \n",
    "import sys\n",
    "sys.path.append('../0_herramientas/')\n",
    "from graficarVectores import graficarVectores\n",
    "%matplotlib inline\n"
   ]
  },
  {
   "cell_type": "code",
   "execution_count": 13,
   "metadata": {},
   "outputs": [],
   "source": [
    "# para descomponer matrices necesitamos los autovalores y los autovectores\n",
    "matriz = np.array([[2, 3], [4, 1]])\n",
    "autovalores, autovectores = np.linalg.eig(matriz)"
   ]
  },
  {
   "cell_type": "code",
   "execution_count": 12,
   "metadata": {},
   "outputs": [],
   "source": [
    "# recordemos que podemos pasar de una lista a una matriz con np.diagonal()\n",
    "matrizAutovalores = np.diag(autovalores)"
   ]
  },
  {
   "cell_type": "code",
   "execution_count": 14,
   "metadata": {},
   "outputs": [
    {
     "output_type": "stream",
     "name": "stdout",
     "text": [
      "[[2 3]\n [4 1]]\n[[2. 3.]\n [4. 1.]]\n"
     ]
    }
   ],
   "source": [
    "# ahora podemos descomponer la matriz\n",
    "print(matriz)\n",
    "print(autovectores.dot(matrizAutovalores).dot(np.linalg.inv(autovectores)))"
   ]
  }
 ]
}